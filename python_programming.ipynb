{
 "cells": [
  {
   "cell_type": "code",
   "execution_count": 2,
   "id": "d170db4f-8f92-43ca-ae7b-c67881eaebf1",
   "metadata": {},
   "outputs": [
    {
     "data": {
      "text/plain": [
       "int"
      ]
     },
     "execution_count": 2,
     "metadata": {},
     "output_type": "execute_result"
    }
   ],
   "source": [
    "x = 1\n",
    "y = -100\n",
    "type(x)\n"
   ]
  },
  {
   "cell_type": "code",
   "execution_count": 4,
   "id": "7c97bd84-5b80-43a5-b0f0-2899eb9daf6f",
   "metadata": {},
   "outputs": [
    {
     "data": {
      "text/plain": [
       "1"
      ]
     },
     "execution_count": 4,
     "metadata": {},
     "output_type": "execute_result"
    }
   ],
   "source": [
    "3//2"
   ]
  },
  {
   "cell_type": "code",
   "execution_count": 5,
   "id": "23b1fb67-c954-4bc6-9a1f-0c275b96405c",
   "metadata": {},
   "outputs": [
    {
     "data": {
      "text/plain": [
       "1.5"
      ]
     },
     "execution_count": 5,
     "metadata": {},
     "output_type": "execute_result"
    }
   ],
   "source": [
    "3/2"
   ]
  },
  {
   "cell_type": "code",
   "execution_count": 6,
   "id": "29ebd064-c112-4ee4-8439-63867f098826",
   "metadata": {},
   "outputs": [
    {
     "data": {
      "text/plain": [
       "4"
      ]
     },
     "execution_count": 6,
     "metadata": {},
     "output_type": "execute_result"
    }
   ],
   "source": [
    "2**2"
   ]
  },
  {
   "cell_type": "code",
   "execution_count": 7,
   "id": "2cd6347e-2d5b-47f2-9a25-67db8c7aa947",
   "metadata": {},
   "outputs": [
    {
     "name": "stdout",
     "output_type": "stream",
     "text": [
      "100000000000000000000000000000000000000000000000000000000000000000000000000000000000000000000000000000000000000000000000000000000000000000000000000000000000000000000000000000000000000000000000000000000\n"
     ]
    }
   ],
   "source": [
    "print(100**100)"
   ]
  },
  {
   "cell_type": "code",
   "execution_count": 8,
   "id": "32cd7d29-b57b-41d0-9935-3aef792da33d",
   "metadata": {},
   "outputs": [
    {
     "data": {
      "text/plain": [
       "(6+0j)"
      ]
     },
     "execution_count": 8,
     "metadata": {},
     "output_type": "execute_result"
    }
   ],
   "source": [
    "a = 3+2j\n",
    "b = 3-2j\n",
    "a+b"
   ]
  },
  {
   "cell_type": "code",
   "execution_count": 10,
   "id": "810d8903-cd1d-4e51-9ca1-f9263fe6e6a7",
   "metadata": {},
   "outputs": [
    {
     "data": {
      "text/plain": [
       "(13+0j)"
      ]
     },
     "execution_count": 10,
     "metadata": {},
     "output_type": "execute_result"
    }
   ],
   "source": [
    "a*b"
   ]
  },
  {
   "cell_type": "code",
   "execution_count": 11,
   "id": "9f61f221-54d5-4458-838f-e02a6d3fd927",
   "metadata": {},
   "outputs": [
    {
     "data": {
      "text/plain": [
       "(3-2j)"
      ]
     },
     "execution_count": 11,
     "metadata": {},
     "output_type": "execute_result"
    }
   ],
   "source": [
    "a.conjugate()"
   ]
  },
  {
   "cell_type": "code",
   "execution_count": 12,
   "id": "84519cec-84eb-4004-8567-dfaf83de8e71",
   "metadata": {},
   "outputs": [
    {
     "data": {
      "text/plain": [
       "10"
      ]
     },
     "execution_count": 12,
     "metadata": {},
     "output_type": "execute_result"
    }
   ],
   "source": [
    "abs(-10)"
   ]
  },
  {
   "cell_type": "code",
   "execution_count": 13,
   "id": "a42206fa-73e0-4a82-8526-7d76aa57d4d2",
   "metadata": {},
   "outputs": [
    {
     "name": "stdout",
     "output_type": "stream",
     "text": [
      "arif is \n",
      "a boy \n"
     ]
    }
   ],
   "source": [
    "print('''arif is \n",
    "a boy ''')"
   ]
  },
  {
   "cell_type": "code",
   "execution_count": 14,
   "id": "b855af71-90f2-418f-ab19-a7f2243071df",
   "metadata": {},
   "outputs": [
    {
     "data": {
      "text/plain": [
       "'c'"
      ]
     },
     "execution_count": 14,
     "metadata": {},
     "output_type": "execute_result"
    }
   ],
   "source": [
    "a = \"cat\"\n",
    "a[0]"
   ]
  },
  {
   "cell_type": "code",
   "execution_count": 15,
   "id": "96a388eb-455c-417a-a459-51de72e2f847",
   "metadata": {},
   "outputs": [
    {
     "data": {
      "text/plain": [
       "'a'"
      ]
     },
     "execution_count": 15,
     "metadata": {},
     "output_type": "execute_result"
    }
   ],
   "source": [
    "a[-2]"
   ]
  },
  {
   "cell_type": "code",
   "execution_count": 16,
   "id": "7c16248f-91f3-49a9-a295-33a15a4a2d01",
   "metadata": {},
   "outputs": [
    {
     "data": {
      "text/plain": [
       "'t'"
      ]
     },
     "execution_count": 16,
     "metadata": {},
     "output_type": "execute_result"
    }
   ],
   "source": [
    "a[-1]"
   ]
  },
  {
   "cell_type": "code",
   "execution_count": 17,
   "id": "36afafbf-ed84-44d0-8eeb-d17b81cb79a6",
   "metadata": {},
   "outputs": [
    {
     "data": {
      "text/plain": [
       "'at'"
      ]
     },
     "execution_count": 17,
     "metadata": {},
     "output_type": "execute_result"
    }
   ],
   "source": [
    "a = \"data\"\n",
    "a[1:3]"
   ]
  },
  {
   "cell_type": "code",
   "execution_count": 18,
   "id": "d434f9f9-86c9-468d-af95-a10f6c413493",
   "metadata": {},
   "outputs": [
    {
     "data": {
      "text/plain": [
       "'data'"
      ]
     },
     "execution_count": 18,
     "metadata": {},
     "output_type": "execute_result"
    }
   ],
   "source": [
    "a[:]"
   ]
  },
  {
   "cell_type": "code",
   "execution_count": 19,
   "id": "4125aa21-065d-4c98-ad83-e04b2c114029",
   "metadata": {},
   "outputs": [
    {
     "data": {
      "text/plain": [
       "'ata'"
      ]
     },
     "execution_count": 19,
     "metadata": {},
     "output_type": "execute_result"
    }
   ],
   "source": [
    "a[1:]"
   ]
  },
  {
   "cell_type": "code",
   "execution_count": 20,
   "id": "357760d2-bde3-41da-a4e7-99222954e2ee",
   "metadata": {},
   "outputs": [
    {
     "name": "stdout",
     "output_type": "stream",
     "text": [
      "el vnes\n"
     ]
    }
   ],
   "source": [
    "str = \"Hello Avengers\"\n",
    "print(str[1::2])"
   ]
  },
  {
   "cell_type": "code",
   "execution_count": 21,
   "id": "a5703d1c-6e6b-4c9d-9b04-00d394c3af57",
   "metadata": {},
   "outputs": [
    {
     "data": {
      "text/plain": [
       "14"
      ]
     },
     "execution_count": 21,
     "metadata": {},
     "output_type": "execute_result"
    }
   ],
   "source": [
    "len(str)"
   ]
  },
  {
   "cell_type": "code",
   "execution_count": 22,
   "id": "f86cf638-67ee-4590-9184-9b5d4d307b3b",
   "metadata": {},
   "outputs": [
    {
     "data": {
      "text/plain": [
       "'hello avengers'"
      ]
     },
     "execution_count": 22,
     "metadata": {},
     "output_type": "execute_result"
    }
   ],
   "source": [
    "str.lower()"
   ]
  },
  {
   "cell_type": "code",
   "execution_count": 23,
   "id": "d8898c9e-5090-4386-badf-d44445b2b3ac",
   "metadata": {},
   "outputs": [
    {
     "data": {
      "text/plain": [
       "'HELLO AVENGERS'"
      ]
     },
     "execution_count": 23,
     "metadata": {},
     "output_type": "execute_result"
    }
   ],
   "source": [
    "str.upper()"
   ]
  },
  {
   "cell_type": "code",
   "execution_count": 25,
   "id": "9b905afe-8e55-48ca-96a9-5ffdf2534a8e",
   "metadata": {},
   "outputs": [
    {
     "data": {
      "text/plain": [
       "1"
      ]
     },
     "execution_count": 25,
     "metadata": {},
     "output_type": "execute_result"
    }
   ],
   "source": [
    "str.count(\"s\")"
   ]
  },
  {
   "cell_type": "code",
   "execution_count": 26,
   "id": "9025587c-c824-4064-aa3c-01de8e4e68ee",
   "metadata": {},
   "outputs": [
    {
     "name": "stdout",
     "output_type": "stream",
     "text": [
      "True\n"
     ]
    }
   ],
   "source": [
    "a = \"1234\"\n",
    "print(a.isdigit())"
   ]
  },
  {
   "cell_type": "code",
   "execution_count": 27,
   "id": "b76c93b6-3009-427f-95d5-83e843db5062",
   "metadata": {},
   "outputs": [
    {
     "data": {
      "text/plain": [
       "True"
      ]
     },
     "execution_count": 27,
     "metadata": {},
     "output_type": "execute_result"
    }
   ],
   "source": [
    "\"1\" in a"
   ]
  },
  {
   "cell_type": "code",
   "execution_count": 31,
   "id": "eaa6ef1b-33bc-4877-b4ea-f1ea81b57ec2",
   "metadata": {},
   "outputs": [
    {
     "name": "stdout",
     "output_type": "stream",
     "text": [
      "##"
     ]
    }
   ],
   "source": [
    "string1 = \"Data#Avengers#\"\n",
    "for i in string1:\n",
    "    if i =='#':\n",
    "      print(,end='')\n",
    "        "
   ]
  },
  {
   "cell_type": "code",
   "execution_count": 34,
   "id": "4346043c-febd-479e-9197-3d7b6bb09058",
   "metadata": {},
   "outputs": [
    {
     "name": "stdout",
     "output_type": "stream",
     "text": [
      "4\n",
      "13\n"
     ]
    }
   ],
   "source": [
    "for i in range(len(string1)):\n",
    "    if string1[i]==\"#\":\n",
    "        print(i,end=\"\\n\")"
   ]
  },
  {
   "cell_type": "code",
   "execution_count": 35,
   "id": "b64ac046-50ba-4ef4-9b05-0631b9ac5d3b",
   "metadata": {},
   "outputs": [],
   "source": [
    "list1 = [1,2,3,4]"
   ]
  },
  {
   "cell_type": "code",
   "execution_count": 36,
   "id": "9bc7370b-a0d0-4d6b-be6e-2c7b21cd0521",
   "metadata": {},
   "outputs": [],
   "source": [
    "list1 = list([1,2])"
   ]
  },
  {
   "cell_type": "code",
   "execution_count": 37,
   "id": "6bce2bac-c421-48bb-98c8-3188beb4edb0",
   "metadata": {},
   "outputs": [
    {
     "data": {
      "text/plain": [
       "[1, 2]"
      ]
     },
     "execution_count": 37,
     "metadata": {},
     "output_type": "execute_result"
    }
   ],
   "source": [
    "list1"
   ]
  },
  {
   "cell_type": "code",
   "execution_count": 38,
   "id": "c049e95c-184a-4c2f-acd6-ccfca7025b14",
   "metadata": {},
   "outputs": [],
   "source": [
    "list1 = [[1,2,3],[4,5,6],[7,8,9]]"
   ]
  },
  {
   "cell_type": "code",
   "execution_count": 52,
   "id": "83285c0e-2fc5-4057-b7ac-f4f39454eea6",
   "metadata": {},
   "outputs": [
    {
     "data": {
      "text/plain": [
       "6"
      ]
     },
     "execution_count": 52,
     "metadata": {},
     "output_type": "execute_result"
    }
   ],
   "source": [
    "list1[1][2]"
   ]
  },
  {
   "cell_type": "code",
   "execution_count": 53,
   "id": "03a13094-f7a5-4015-b966-d30080085691",
   "metadata": {},
   "outputs": [
    {
     "data": {
      "text/plain": [
       "[[1, 2, 3], [4, 5, 6], [7, 8, 9], [1, 2, 3], [4, 5, 6], [7, 8, 9]]"
      ]
     },
     "execution_count": 53,
     "metadata": {},
     "output_type": "execute_result"
    }
   ],
   "source": [
    "list1*2"
   ]
  },
  {
   "cell_type": "code",
   "execution_count": 55,
   "id": "7b4a23be-7b09-4d20-86a4-c2e0b1ff92c7",
   "metadata": {},
   "outputs": [],
   "source": [
    "import numpy as np"
   ]
  },
  {
   "cell_type": "code",
   "execution_count": 56,
   "id": "f9d72cda-eeb2-441f-97d5-2a5ca7b60de5",
   "metadata": {},
   "outputs": [],
   "source": [
    "arr1 = np.array([1,2,3])"
   ]
  },
  {
   "cell_type": "code",
   "execution_count": 57,
   "id": "9eff78aa-7f5c-4adb-9ee1-186cc728e115",
   "metadata": {},
   "outputs": [
    {
     "data": {
      "text/plain": [
       "array([1, 2, 3])"
      ]
     },
     "execution_count": 57,
     "metadata": {},
     "output_type": "execute_result"
    }
   ],
   "source": [
    "arr1"
   ]
  },
  {
   "cell_type": "code",
   "execution_count": 58,
   "id": "621579bc-a1ec-415e-815c-ddeb0ac5babe",
   "metadata": {},
   "outputs": [
    {
     "name": "stdout",
     "output_type": "stream",
     "text": [
      "[[1. 0. 0. 0. 0.]\n",
      " [0. 1. 0. 0. 0.]\n",
      " [0. 0. 1. 0. 0.]]\n"
     ]
    }
   ],
   "source": [
    "print(np.eye(3,5))"
   ]
  },
  {
   "cell_type": "code",
   "execution_count": 3,
   "id": "c43fd98b-c16d-4886-99ea-922edc399781",
   "metadata": {},
   "outputs": [
    {
     "name": "stdout",
     "output_type": "stream",
     "text": [
      "arif\n"
     ]
    }
   ],
   "source": [
    "print(\"arif\")"
   ]
  },
  {
   "cell_type": "code",
   "execution_count": 1,
   "id": "77cbe0af-62ef-486d-9c5d-fd7f02cb8ab5",
   "metadata": {},
   "outputs": [
    {
     "data": {
      "text/plain": [
       "7"
      ]
     },
     "execution_count": 1,
     "metadata": {},
     "output_type": "execute_result"
    }
   ],
   "source": [
    "str = 'Hellow World'\n",
    "str.find('W')"
   ]
  },
  {
   "cell_type": "code",
   "execution_count": 5,
   "id": "3feb98aa-3bf7-4975-a3d6-1a1edc295a8a",
   "metadata": {},
   "outputs": [
    {
     "data": {
      "text/plain": [
       "True"
      ]
     },
     "execution_count": 5,
     "metadata": {},
     "output_type": "execute_result"
    }
   ],
   "source": [
    "'World' in str"
   ]
  },
  {
   "cell_type": "code",
   "execution_count": 7,
   "id": "a297612f-16b2-41c5-84c3-b4bb5e52033f",
   "metadata": {},
   "outputs": [
    {
     "data": {
      "text/plain": [
       "True"
      ]
     },
     "execution_count": 7,
     "metadata": {},
     "output_type": "execute_result"
    }
   ],
   "source": [
    "bool(4.8)"
   ]
  },
  {
   "cell_type": "code",
   "execution_count": 9,
   "id": "706bdb61-47de-408f-bc06-f6db7267da66",
   "metadata": {},
   "outputs": [],
   "source": [
    "str1 = \"Data Avengers\""
   ]
  },
  {
   "cell_type": "code",
   "execution_count": 11,
   "id": "b8ca01ad-b6c7-4d7a-b6be-0a449b29c340",
   "metadata": {},
   "outputs": [
    {
     "data": {
      "text/plain": [
       "-1"
      ]
     },
     "execution_count": 11,
     "metadata": {},
     "output_type": "execute_result"
    }
   ],
   "source": [
    "str1.find('#')"
   ]
  },
  {
   "cell_type": "code",
   "execution_count": 19,
   "id": "6bf98367-e9b8-4eda-8ff7-153a4f463454",
   "metadata": {},
   "outputs": [
    {
     "name": "stdout",
     "output_type": "stream",
     "text": [
      "0\n",
      "1\n",
      "2\n",
      "3\n",
      "4\n",
      "5\n",
      "6\n",
      "7\n",
      "8\n",
      "9\n"
     ]
    }
   ],
   "source": [
    "for i in range(0,10):\n",
    "    print(i)"
   ]
  },
  {
   "cell_type": "code",
   "execution_count": 21,
   "id": "b55f33c8-b60b-48e8-b283-23adf9a066c8",
   "metadata": {},
   "outputs": [
    {
     "data": {
      "text/plain": [
       "NoneType"
      ]
     },
     "execution_count": 21,
     "metadata": {},
     "output_type": "execute_result"
    }
   ],
   "source": [
    "type(None)"
   ]
  },
  {
   "cell_type": "code",
   "execution_count": 23,
   "id": "2cf1bbd7-6e77-4e0a-ac5c-9a3b0f8104de",
   "metadata": {},
   "outputs": [
    {
     "data": {
      "text/plain": [
       "False"
      ]
     },
     "execution_count": 23,
     "metadata": {},
     "output_type": "execute_result"
    }
   ],
   "source": [
    "None ==False"
   ]
  },
  {
   "cell_type": "code",
   "execution_count": 25,
   "id": "249ffb5d-f001-4a71-a2c9-7451f29d6c05",
   "metadata": {},
   "outputs": [
    {
     "name": "stdout",
     "output_type": "stream",
     "text": [
      "[1, 2, 3, 4]\n"
     ]
    }
   ],
   "source": [
    "l1 = [1,2,3,4]\n",
    "print(l1)"
   ]
  },
  {
   "cell_type": "code",
   "execution_count": 27,
   "id": "a651c7ca-f680-4627-8e53-0877ed5e62f1",
   "metadata": {},
   "outputs": [],
   "source": [
    "l1.append(3)"
   ]
  },
  {
   "cell_type": "code",
   "execution_count": 29,
   "id": "314d824b-ed7b-440a-a41b-78a0e30c9b6c",
   "metadata": {},
   "outputs": [
    {
     "data": {
      "text/plain": [
       "[1, 2, 3, 4, 3]"
      ]
     },
     "execution_count": 29,
     "metadata": {},
     "output_type": "execute_result"
    }
   ],
   "source": [
    "l1"
   ]
  },
  {
   "cell_type": "code",
   "execution_count": 31,
   "id": "07d2d586-5dce-4662-9533-54caa33cf9cf",
   "metadata": {},
   "outputs": [
    {
     "data": {
      "text/plain": [
       "3"
      ]
     },
     "execution_count": 31,
     "metadata": {},
     "output_type": "execute_result"
    }
   ],
   "source": [
    "l1.pop()"
   ]
  },
  {
   "cell_type": "code",
   "execution_count": 33,
   "id": "e3c77fde-3a0b-46cb-aa52-e24908aba594",
   "metadata": {},
   "outputs": [
    {
     "data": {
      "text/plain": [
       "[1, 2, 3, 4]"
      ]
     },
     "execution_count": 33,
     "metadata": {},
     "output_type": "execute_result"
    }
   ],
   "source": [
    "l1"
   ]
  },
  {
   "cell_type": "code",
   "execution_count": 35,
   "id": "69b02da4-f99b-4cb0-84b6-880d65a182da",
   "metadata": {},
   "outputs": [
    {
     "data": {
      "text/plain": [
       "1"
      ]
     },
     "execution_count": 35,
     "metadata": {},
     "output_type": "execute_result"
    }
   ],
   "source": [
    "l1.pop(0)"
   ]
  },
  {
   "cell_type": "code",
   "execution_count": 37,
   "id": "cff23578-2819-48c2-b6ef-a285534af493",
   "metadata": {},
   "outputs": [
    {
     "data": {
      "text/plain": [
       "[2, 3, 4]"
      ]
     },
     "execution_count": 37,
     "metadata": {},
     "output_type": "execute_result"
    }
   ],
   "source": [
    "l1"
   ]
  },
  {
   "cell_type": "code",
   "execution_count": 43,
   "id": "51f283ec-93f6-4e3e-9aa0-c7937b230134",
   "metadata": {},
   "outputs": [
    {
     "data": {
      "text/plain": [
       "9"
      ]
     },
     "execution_count": 43,
     "metadata": {},
     "output_type": "execute_result"
    }
   ],
   "source": [
    "sum(l1)"
   ]
  },
  {
   "cell_type": "code",
   "execution_count": 47,
   "id": "dfbf6b0f-09e0-4d68-8124-a37d417729c8",
   "metadata": {},
   "outputs": [
    {
     "data": {
      "text/plain": [
       "[4, 3, 2]"
      ]
     },
     "execution_count": 47,
     "metadata": {},
     "output_type": "execute_result"
    }
   ],
   "source": [
    "sorted(l1,reverse=True)"
   ]
  },
  {
   "cell_type": "code",
   "execution_count": 49,
   "id": "f75d12cc-25c3-4457-88e4-9fb8efaf30fb",
   "metadata": {},
   "outputs": [],
   "source": [
    "l1 = [1,2,3,4]\n",
    "l2 = l1.extend([5,6,7])"
   ]
  },
  {
   "cell_type": "code",
   "execution_count": 53,
   "id": "44e0ebf3-c629-4959-8d60-9241397bebfb",
   "metadata": {},
   "outputs": [
    {
     "data": {
      "text/plain": [
       "[1, 2, 3, 4, 5, 6, 7]"
      ]
     },
     "execution_count": 53,
     "metadata": {},
     "output_type": "execute_result"
    }
   ],
   "source": [
    "l1"
   ]
  },
  {
   "cell_type": "code",
   "execution_count": 61,
   "id": "58b7db38-2459-4325-baf2-c6db7875c2a0",
   "metadata": {},
   "outputs": [
    {
     "data": {
      "text/plain": [
       "'Hi i am arif'"
      ]
     },
     "execution_count": 61,
     "metadata": {},
     "output_type": "execute_result"
    }
   ],
   "source": [
    "str = \"Hi i am arif\"\n",
    "l1 = str.split()\n",
    "\" \".join(l1)"
   ]
  },
  {
   "cell_type": "code",
   "execution_count": 69,
   "id": "3e89d1d2-1d72-4549-9817-a43ba7e66265",
   "metadata": {},
   "outputs": [
    {
     "data": {
      "text/plain": [
       "(2,)"
      ]
     },
     "execution_count": 69,
     "metadata": {},
     "output_type": "execute_result"
    }
   ],
   "source": [
    "2,"
   ]
  },
  {
   "cell_type": "code",
   "execution_count": 73,
   "id": "ca7a56d1-c9b1-437a-9770-0a915931d19e",
   "metadata": {},
   "outputs": [
    {
     "data": {
      "text/plain": [
       "('a', 'b', 'c')"
      ]
     },
     "execution_count": 73,
     "metadata": {},
     "output_type": "execute_result"
    }
   ],
   "source": [
    "tuple(\"abc\")"
   ]
  },
  {
   "cell_type": "code",
   "execution_count": 75,
   "id": "0b331a1c-c0ef-4f6a-9322-be2b6689a720",
   "metadata": {},
   "outputs": [
    {
     "data": {
      "text/plain": [
       "['a', 'b', 'c']"
      ]
     },
     "execution_count": 75,
     "metadata": {},
     "output_type": "execute_result"
    }
   ],
   "source": [
    "list(\"abc\")"
   ]
  },
  {
   "cell_type": "code",
   "execution_count": 77,
   "id": "ded7efe4-eb56-4f09-8d8c-02c06506ea85",
   "metadata": {},
   "outputs": [
    {
     "data": {
      "text/plain": [
       "{'a', 'b', 'c'}"
      ]
     },
     "execution_count": 77,
     "metadata": {},
     "output_type": "execute_result"
    }
   ],
   "source": [
    "set(\"abc\")"
   ]
  },
  {
   "cell_type": "code",
   "execution_count": 91,
   "id": "d9544080-be11-4ea2-a0c0-3fdf171d008a",
   "metadata": {},
   "outputs": [],
   "source": [
    "q = (1,2,3)\n",
    "a,b,c = q"
   ]
  },
  {
   "cell_type": "code",
   "execution_count": 97,
   "id": "510af6a1-1fbe-4264-b9e1-78ac09c899a0",
   "metadata": {},
   "outputs": [
    {
     "data": {
      "text/plain": [
       "(1, 2, 3, 2, 3, 4)"
      ]
     },
     "execution_count": 97,
     "metadata": {},
     "output_type": "execute_result"
    }
   ],
   "source": [
    "q+(2,3,4)"
   ]
  },
  {
   "cell_type": "code",
   "execution_count": 99,
   "id": "2667a4c6-784f-4039-b7af-173eed16450b",
   "metadata": {},
   "outputs": [],
   "source": [
    "student = {'name':[\"Arif\",\"Shinchan\"],\n",
    "          'Marks':[23,12,44]}"
   ]
  },
  {
   "cell_type": "code",
   "execution_count": 111,
   "id": "5bce89bd-3901-4236-9a0c-d544c377bf78",
   "metadata": {},
   "outputs": [
    {
     "data": {
      "text/plain": [
       "dict_values([['Arif', 'Shinchan'], [23, 12, 44]])"
      ]
     },
     "execution_count": 111,
     "metadata": {},
     "output_type": "execute_result"
    }
   ],
   "source": [
    "student.values()"
   ]
  },
  {
   "cell_type": "code",
   "execution_count": 113,
   "id": "6a5ef611-9e27-46a4-88e1-27da30bd2d4d",
   "metadata": {},
   "outputs": [
    {
     "data": {
      "text/plain": [
       "[23, 12, 44]"
      ]
     },
     "execution_count": 113,
     "metadata": {},
     "output_type": "execute_result"
    }
   ],
   "source": [
    "student.pop(\"Marks\")"
   ]
  },
  {
   "cell_type": "code",
   "execution_count": 115,
   "id": "c56c410a-31ab-4698-995d-4adacfbff16b",
   "metadata": {},
   "outputs": [
    {
     "data": {
      "text/plain": [
       "{'name': ['Arif', 'Shinchan']}"
      ]
     },
     "execution_count": 115,
     "metadata": {},
     "output_type": "execute_result"
    }
   ],
   "source": [
    "student"
   ]
  },
  {
   "cell_type": "code",
   "execution_count": 179,
   "id": "aa99693b-c53b-4eb2-96f5-d5ff92a4d20f",
   "metadata": {},
   "outputs": [],
   "source": [
    "list1 = [x for x in range(1,10) if x%2==0]"
   ]
  },
  {
   "cell_type": "code",
   "execution_count": 181,
   "id": "472fb40e-def9-4eca-8ed1-46c0605ff270",
   "metadata": {},
   "outputs": [
    {
     "data": {
      "text/plain": [
       "[2, 4, 6, 8]"
      ]
     },
     "execution_count": 181,
     "metadata": {},
     "output_type": "execute_result"
    }
   ],
   "source": [
    "list1"
   ]
  },
  {
   "cell_type": "code",
   "execution_count": 159,
   "id": "c8d13669-4048-4489-addb-bab6efd94338",
   "metadata": {},
   "outputs": [],
   "source": [
    "list1 = [char.upper() for char in \"DataAvengers\"]"
   ]
  },
  {
   "cell_type": "code",
   "execution_count": 161,
   "id": "54f5d1a1-5ee8-4d15-8bb2-b831c79c296b",
   "metadata": {},
   "outputs": [
    {
     "data": {
      "text/plain": [
       "['D', 'A', 'T', 'A', 'A', 'V', 'E', 'N', 'G', 'E', 'R', 'S']"
      ]
     },
     "execution_count": 161,
     "metadata": {},
     "output_type": "execute_result"
    }
   ],
   "source": [
    "list1"
   ]
  },
  {
   "cell_type": "code",
   "execution_count": 163,
   "id": "79f111d9-c1b7-4f9b-823d-2ed4fab07101",
   "metadata": {},
   "outputs": [],
   "source": [
    "list2 = ['Python','Sql','Statistics']\n",
    "list1 = [i[0].upper() for i in list2]"
   ]
  },
  {
   "cell_type": "code",
   "execution_count": 165,
   "id": "bf6f52b7-18a0-4be1-93b9-2a10c6b97e58",
   "metadata": {},
   "outputs": [
    {
     "data": {
      "text/plain": [
       "['P', 'S', 'S']"
      ]
     },
     "execution_count": 165,
     "metadata": {},
     "output_type": "execute_result"
    }
   ],
   "source": [
    "list1"
   ]
  },
  {
   "cell_type": "code",
   "execution_count": 183,
   "id": "19965090-e621-4add-a58f-554103528271",
   "metadata": {},
   "outputs": [
    {
     "data": {
      "text/plain": [
       "[5, 6, 7, 8, 9]"
      ]
     },
     "execution_count": 183,
     "metadata": {},
     "output_type": "execute_result"
    }
   ],
   "source": [
    "list2 = [[1,2,3],[4,5,6],[7,8,9]]\n",
    "[j  for i in list2 for j in i if j >4]"
   ]
  },
  {
   "cell_type": "code",
   "execution_count": 189,
   "id": "6f19294d-569c-4899-86be-267907203cf0",
   "metadata": {},
   "outputs": [],
   "source": [
    "set1 = set()\n",
    "set1.add(4)"
   ]
  },
  {
   "cell_type": "code",
   "execution_count": 191,
   "id": "5a5bc194-32e4-456f-b09b-37cf65fe044e",
   "metadata": {},
   "outputs": [
    {
     "data": {
      "text/plain": [
       "{4}"
      ]
     },
     "execution_count": 191,
     "metadata": {},
     "output_type": "execute_result"
    }
   ],
   "source": [
    "set1"
   ]
  },
  {
   "cell_type": "code",
   "execution_count": 197,
   "id": "dee3f34b-3dd1-4ac1-8966-40f7bc6c6875",
   "metadata": {},
   "outputs": [],
   "source": [
    "set1.add(5)"
   ]
  },
  {
   "cell_type": "code",
   "execution_count": 199,
   "id": "1c58863b-60c7-4a5d-91e8-db18a3168824",
   "metadata": {},
   "outputs": [
    {
     "data": {
      "text/plain": [
       "{4, 5}"
      ]
     },
     "execution_count": 199,
     "metadata": {},
     "output_type": "execute_result"
    }
   ],
   "source": [
    "set1"
   ]
  },
  {
   "cell_type": "code",
   "execution_count": 207,
   "id": "7ed49a45-fd10-422e-9bb8-405e644182e2",
   "metadata": {},
   "outputs": [
    {
     "name": "stdout",
     "output_type": "stream",
     "text": [
      "4\n",
      "5\n"
     ]
    }
   ],
   "source": [
    "for i in set1:\n",
    "    print (i)"
   ]
  },
  {
   "cell_type": "code",
   "execution_count": 211,
   "id": "698eb496-686c-4ff5-9205-a2edd0f31f3a",
   "metadata": {},
   "outputs": [],
   "source": [
    "dict1 = {i:i*i for i in range(1,11)}"
   ]
  },
  {
   "cell_type": "code",
   "execution_count": 215,
   "id": "f6540cf1-e40a-4d80-8182-9a2e0a2edcfe",
   "metadata": {},
   "outputs": [
    {
     "data": {
      "text/plain": [
       "{1: 1, 2: 4, 3: 9, 4: 16, 5: 25, 6: 36, 7: 49, 8: 64, 9: 81, 10: 100}"
      ]
     },
     "execution_count": 215,
     "metadata": {},
     "output_type": "execute_result"
    }
   ],
   "source": [
    "dict1"
   ]
  },
  {
   "cell_type": "code",
   "execution_count": 219,
   "id": "5bd62a51-a3d3-47c4-858f-6ecc73a870fe",
   "metadata": {},
   "outputs": [
    {
     "name": "stdout",
     "output_type": "stream",
     "text": [
      "(1, 'Python')\n",
      "(2, 'SQL')\n",
      "(3, 'Statistics')\n"
     ]
    }
   ],
   "source": [
    "dic2 = {1:'Python',2:\"SQL\",3:\"Statistics\"}\n",
    "for key,value in dic2.items():\n",
    "    print((key,value))\n",
    "\n",
    "dict2 = {value:key for key,value in dic2.items()}"
   ]
  },
  {
   "cell_type": "code",
   "execution_count": 221,
   "id": "fcaabe19-7af0-4772-8e60-6012a17fcf42",
   "metadata": {},
   "outputs": [
    {
     "data": {
      "text/plain": [
       "{'Python': 1, 'SQL': 2, 'Statistics': 3}"
      ]
     },
     "execution_count": 221,
     "metadata": {},
     "output_type": "execute_result"
    }
   ],
   "source": [
    "dict2"
   ]
  },
  {
   "cell_type": "code",
   "execution_count": 223,
   "id": "8c6f03a4-bde2-4950-9257-020168f64faf",
   "metadata": {},
   "outputs": [],
   "source": [
    "dict3 = {i:{i*i:i*i*i} for i in range(1,15)}"
   ]
  },
  {
   "cell_type": "code",
   "execution_count": 225,
   "id": "cb20f297-3993-4273-b699-5d76fe767510",
   "metadata": {},
   "outputs": [
    {
     "data": {
      "text/plain": [
       "{1: {1: 1},\n",
       " 2: {4: 8},\n",
       " 3: {9: 27},\n",
       " 4: {16: 64},\n",
       " 5: {25: 125},\n",
       " 6: {36: 216},\n",
       " 7: {49: 343},\n",
       " 8: {64: 512},\n",
       " 9: {81: 729},\n",
       " 10: {100: 1000},\n",
       " 11: {121: 1331},\n",
       " 12: {144: 1728},\n",
       " 13: {169: 2197},\n",
       " 14: {196: 2744}}"
      ]
     },
     "execution_count": 225,
     "metadata": {},
     "output_type": "execute_result"
    }
   ],
   "source": [
    "dict3"
   ]
  },
  {
   "cell_type": "code",
   "execution_count": null,
   "id": "a37e9fb1-31cb-4235-b21b-382b3e79b721",
   "metadata": {},
   "outputs": [],
   "source": []
  }
 ],
 "metadata": {
  "kernelspec": {
   "display_name": "Python 3 (ipykernel)",
   "language": "python",
   "name": "python3"
  },
  "language_info": {
   "codemirror_mode": {
    "name": "ipython",
    "version": 3
   },
   "file_extension": ".py",
   "mimetype": "text/x-python",
   "name": "python",
   "nbconvert_exporter": "python",
   "pygments_lexer": "ipython3",
   "version": "3.11.7"
  }
 },
 "nbformat": 4,
 "nbformat_minor": 5
}
